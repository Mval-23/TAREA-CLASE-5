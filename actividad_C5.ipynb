{
 "cells": [
  {
   "cell_type": "markdown",
   "metadata": {},
   "source": [
    "1.\tCalculadora Simple: Crea un programa que solicite al usuario dos números y una operación (suma, resta, multiplicación o división). Luego, utilizando estructuras condicionales (if, elif, else), realiza la operación seleccionada e imprime el resultado."
   ]
  },
  {
   "cell_type": "code",
   "execution_count": 1,
   "metadata": {},
   "outputs": [
    {
     "name": "stdout",
     "output_type": "stream",
     "text": [
      "El resultado de la resta es: 26.6\n"
     ]
    }
   ],
   "source": [
    "a=float(input(\"ingresa un numero:\"))\n",
    "b=float(input(\"ingresa otro numero:\"))\n",
    "operacion= input(\"La operación que desea realizar es Suma, resta, multiplicación o división:\")\n",
    "\n",
    "if operacion ==\"suma\":\n",
    "    resultado = a+b\n",
    "    print (\"El resultado de la suma es:\" , resultado)\n",
    "elif operacion ==\"resta\":\n",
    "    resultado =a-b\n",
    "    print (\"El resultado de la resta es:\" , resultado)\n",
    "elif operacion ==\"multiplicacion\":\n",
    "    resultado =a*b\n",
    "    print (\"El resultado de la multiplicacion es:\" , resultado)\n",
    "elif operacion ==\"division\":\n",
    "    if b!=0:\n",
    "        resultado =a/b\n",
    "        print (\"El resultado de la resta es:\" , resultado)\n",
    "    else:\n",
    "        print (\"No se puede dividir ningún número por cero\")\n",
    "\n",
    "\n"
   ]
  },
  {
   "cell_type": "markdown",
   "metadata": {},
   "source": [
    "2.\tContador de Números Pares e Impares: Escribe un programa que recorra una lista de números del 1 al 20. Utilizando un bucle for, determina cuántos de estos números son pares y cuántos son impares. Al final, imprime la cantidad de números pares e impares."
   ]
  },
  {
   "cell_type": "code",
   "execution_count": 9,
   "metadata": {},
   "outputs": [
    {
     "name": "stdout",
     "output_type": "stream",
     "text": [
      "Cantidad de numeros pares 10\n",
      "Cantidad de numeros impares 10\n"
     ]
    }
   ],
   "source": [
    "#contadores\n",
    "pares=0\n",
    "impares=0\n",
    "\n",
    "for c in range (1,21):\n",
    "    if c%2 == 0:\n",
    "        pares = pares +1\n",
    "    else:\n",
    "        impares = impares +1\n",
    "print (\"Cantidad de numeros pares\", pares)\n",
    "print (\"Cantidad de numeros impares\", impares)\n",
    "\n"
   ]
  },
  {
   "cell_type": "markdown",
   "metadata": {},
   "source": [
    "3.\tValidación de Contraseña: Pide al usuario que ingrese una contraseña. Utiliza un bucle while para seguir solicitando la contraseña hasta que coincida con una contraseña predefinida (por ejemplo, \"python123\"). Muestra un mensaje de éxito cuando la contraseña es correcta."
   ]
  },
  {
   "cell_type": "code",
   "execution_count": 1,
   "metadata": {},
   "outputs": [
    {
     "name": "stdout",
     "output_type": "stream",
     "text": [
      "La contraseña no es válida. Intenta de nuevo\n",
      "La contraseña es correcta.\n"
     ]
    }
   ],
   "source": [
    "contraseña_ingresada= input(\"Ingresa una contraseña definida\")\n",
    "while contraseña_ingresada != \"phyton\":\n",
    "    print (\"La contraseña no es válida. Intenta de nuevo\")\n",
    "    contraseña_ingresada= input(\"Ingresa la contraseña correcta\")\n",
    "print (\"La contraseña es correcta.\")"
   ]
  }
 ],
 "metadata": {
  "kernelspec": {
   "display_name": "Python 3",
   "language": "python",
   "name": "python3"
  },
  "language_info": {
   "codemirror_mode": {
    "name": "ipython",
    "version": 3
   },
   "file_extension": ".py",
   "mimetype": "text/x-python",
   "name": "python",
   "nbconvert_exporter": "python",
   "pygments_lexer": "ipython3",
   "version": "3.11.5"
  }
 },
 "nbformat": 4,
 "nbformat_minor": 2
}
